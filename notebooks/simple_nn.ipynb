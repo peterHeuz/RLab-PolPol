{
 "cells": [
  {
   "cell_type": "code",
   "execution_count": null,
   "metadata": {
    "collapsed": true
   },
   "outputs": [],
   "source": [
    "from sklearn.neural_network import MLPClassifier\n",
    "import pandas as pd\n",
    "\n",
    "dataset_path = \"../data_semeval/articles-ground-truth-validation-bypublisher-20181122.csv\"\n",
    "train_test_ratio = 0.75\n",
    "\n",
    "data = pd.read_csv(dataset_path)\n",
    "data[\"text\"] = data[\"text\"].apply(lambda x: x.replace(\"\\n\", \" \"))\n",
    "first_test = round(train_test_ratio * len(data))\n",
    "\n",
    "train_set = data.iloc[:first_test-1]\n",
    "test_set = data.iloc[first_test:]"
   ]
  },
  {
   "cell_type": "code",
   "execution_count": null,
   "metadata": {},
   "outputs": [],
   "source": [
    "import numpy as np\n",
    "from gensim.sklearn_api import W2VTransformer\n",
    "\n",
    "corpus = []\n",
    "for article in data[\"text\"]:\n",
    "    corpus.append(article.split(\" \"))\n",
    "\n",
    "def transform_article(article):\n",
    "    wordvecs = model.transform(article.split(\" \"))\n",
    "    return np.mean(wordvecs, axis=0)\n",
    "\n",
    "model = W2VTransformer(size=150, min_count=1, seed=1)\n",
    "model = model.fit(corpus)\n",
    "\n",
    "train_x = np.array(list(train_set[\"text\"].apply(transform_article)))\n",
    "test_x = np.array(list(test_set[\"text\"].apply(transform_article)))\n",
    "\n",
    "train_y = list(train_set[\"hyperpartisan\"].apply(lambda x: 1 if x else 0))\n",
    "test_y = list(test_set[\"hyperpartisan\"].apply(lambda x: 1 if x else 0))"
   ]
  },
  {
   "cell_type": "code",
   "execution_count": null,
   "metadata": {
    "collapsed": true
   },
   "outputs": [],
   "source": [
    "clf = MLPClassifier(solver='lbfgs', alpha=1e-5, hidden_layer_sizes=(10, 3), random_state=1)\n",
    "clf = clf.fit(train_x, train_y)\n",
    "\n",
    "predicted_y = clf.predict(test_x)"
   ]
  },
  {
   "cell_type": "code",
   "execution_count": null,
   "metadata": {
    "collapsed": true
   },
   "outputs": [],
   "source": [
    "from sklearn.metrics import confusion_matrix\n",
    "tn, fp, fn, tn = confusion_matrix(test_y, predicted_y, labels=None, sample_weight=None).ravel()\n",
    "(tn, fp, fn, tn)"
   ]
  },
  {
   "cell_type": "code",
   "execution_count": null,
   "metadata": {
    "collapsed": true
   },
   "outputs": [],
   "source": [
    "from sklearn.metrics import precision_recall_fscore_support\n",
    "precision_recall_fscore_support(test_y, predicted_y)"
   ]
  }
 ],
 "metadata": {
  "kernelspec": {
   "display_name": "Python 3",
   "language": "python",
   "name": "python3"
  },
  "language_info": {
   "codemirror_mode": {
    "name": "ipython",
    "version": 3
   },
   "file_extension": ".py",
   "mimetype": "text/x-python",
   "name": "python",
   "nbconvert_exporter": "python",
   "pygments_lexer": "ipython3",
   "version": "3.6.2"
  }
 },
 "nbformat": 4,
 "nbformat_minor": 2
}
